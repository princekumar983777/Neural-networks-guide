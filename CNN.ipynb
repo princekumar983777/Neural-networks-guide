{
 "cells": [
  {
   "cell_type": "code",
   "execution_count": 2,
   "id": "69893a7a",
   "metadata": {},
   "outputs": [
    {
     "name": "stdout",
     "output_type": "stream",
     "text": [
      "hello world\n"
     ]
    }
   ],
   "source": [
    "print('hello world')"
   ]
  },
  {
   "cell_type": "markdown",
   "id": "b369d554",
   "metadata": {},
   "source": [
    "# Convolution Neural Neetwork \n",
    "A simple CNN looks like this:\n",
    "\n",
    "    Input Layer – image data (e.g., 28x28 MNIST digits)\n",
    "\n",
    "    Convolution Layer – filters/kernels that scan over the image\n",
    "\n",
    "    Activation Function – usually ReLU\n",
    "\n",
    "    Pooling Layer – downsampling, typically Max Pooling\n",
    "\n",
    "    Flatten – convert 2D data to 1D\n",
    "\n",
    "    Fully Connected Layer – classic dense layers\n",
    "\n",
    "    Softmax Output – for classification"
   ]
  },
  {
   "cell_type": "markdown",
   "id": "93a8ef31",
   "metadata": {},
   "source": []
  }
 ],
 "metadata": {
  "kernelspec": {
   "display_name": "base",
   "language": "python",
   "name": "python3"
  },
  "language_info": {
   "codemirror_mode": {
    "name": "ipython",
    "version": 3
   },
   "file_extension": ".py",
   "mimetype": "text/x-python",
   "name": "python",
   "nbconvert_exporter": "python",
   "pygments_lexer": "ipython3",
   "version": "3.12.7"
  }
 },
 "nbformat": 4,
 "nbformat_minor": 5
}
