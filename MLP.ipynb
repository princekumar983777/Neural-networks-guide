{
 "cells": [
  {
   "cell_type": "markdown",
   "id": "8dbf951e",
   "metadata": {},
   "source": [
    "# Feedforward Neural Networks (FNN)\n",
    "In this we are gona build a FNN Neural Network from scratch"
   ]
  },
  {
   "cell_type": "code",
   "execution_count": 2,
   "id": "1c025e3e",
   "metadata": {},
   "outputs": [],
   "source": [
    "# load the dataset , MNIST\n",
    "from tensorflow.keras.datasets import mnist\n",
    "\n",
    "# load impoert lib\n",
    "import numpy as np\n",
    "import matplotlib.pyplot as plt\n",
    "import pandas as pd\n",
    "\n"
   ]
  },
  {
   "cell_type": "code",
   "execution_count": 3,
   "id": "3c4774c3",
   "metadata": {},
   "outputs": [
    {
     "data": {
      "text/plain": [
       "(60000, 28, 28)"
      ]
     },
     "execution_count": 3,
     "metadata": {},
     "output_type": "execute_result"
    }
   ],
   "source": [
    "(X_train ,y_train ), (X_test  , y_test) = mnist.load_data()\n",
    "X_train.shape\n",
    "\n"
   ]
  },
  {
   "cell_type": "code",
   "execution_count": 4,
   "id": "bb75917e",
   "metadata": {},
   "outputs": [
    {
     "name": "stdout",
     "output_type": "stream",
     "text": [
      "5\n"
     ]
    },
    {
     "data": {
      "image/png": "[encoded data removed]",
      "text/plain": [
       "<Figure size 640x480 with 1 Axes>"
      ]
     },
     "metadata": {},
     "output_type": "display_data"
    }
   ],
   "source": [
    "plt.imshow(X_train[0], cmap='gray')\n",
    "print(y_train[0])"
   ]
  },
  {
   "cell_type": "code",
   "execution_count": 5,
   "id": "6eb771dd",
   "metadata": {},
   "outputs": [
    {
     "data": {
      "text/plain": [
       "(60000, 784)"
      ]
     },
     "execution_count": 5,
     "metadata": {},
     "output_type": "execute_result"
    }
   ],
   "source": [
    "# Normalise the \n",
    "X_train = X_train.reshape(X_train.shape[0], 28*28)\n",
    "X_train = X_train/255.0\n",
    "\n",
    "X_test = X_test.reshape(X_test.shape[0], 28*28)\n",
    "X_test = X_test/255.0\n",
    "\n",
    "X_train.shape # Now data is readdy for 1D input to the model"
   ]
  },
  {
   "cell_type": "code",
   "execution_count": 6,
   "id": "8068a879",
   "metadata": {},
   "outputs": [
    {
     "data": {
      "text/plain": [
       "array([0., 0., 0., 0., 0., 1., 0., 0., 0., 0.])"
      ]
     },
     "execution_count": 6,
     "metadata": {},
     "output_type": "execute_result"
    }
   ],
   "source": [
    "y_train.shape # already in one dimentional format\n",
    "from tensorflow.keras.utils import to_categorical\n",
    "y_train= to_categorical(y_train, num_classes=10)\n",
    "y_test = to_categorical(y_test, num_classes=10) \n",
    "\n",
    "y_train[0]\n"
   ]
  },
  {
   "cell_type": "code",
   "execution_count": 7,
   "id": "e31ba3d4",
   "metadata": {},
   "outputs": [],
   "source": [
    "# Defining Activation Funtion\n",
    "\n",
    "def relu(x):\n",
    "    return np.maximum(0, x)\n",
    "\n",
    "def relu_derivative(x):\n",
    "    return x  > 0\n",
    "\n",
    "def softmax(x):\n",
    "    exp_x = np.exp(x - np.max(x))\n",
    "    return exp_x / exp_x.sum(axis=1, keepdims=True)"
   ]
  },
  {
   "cell_type": "code",
   "execution_count": 8,
   "id": "e712c477",
   "metadata": {},
   "outputs": [],
   "source": [
    "#Initlaise the waits and biases\n",
    "\n",
    "input_size  , hidden_size, output_size = 784, 128, 10\n",
    "np.random.seed(42)  # For reproducibility\n",
    "\n",
    "W1 = np.random.randn(input_size, hidden_size) * 0.01\n",
    "b1 = np.zeros((1, hidden_size))\n",
    "\n",
    "W2 = np.random.randn(hidden_size, output_size) * 0.01\n",
    "b2 = np.zeros((1, output_size))"
   ]
  },
  {
   "cell_type": "code",
   "execution_count": 9,
   "id": "83fef645",
   "metadata": {},
   "outputs": [
    {
     "name": "stdout",
     "output_type": "stream",
     "text": [
      "Epoch 1, Loss: 1.0042\n",
      "Epoch 2, Loss: 0.3886\n",
      "Epoch 3, Loss: 0.2603\n",
      "Epoch 4, Loss: 0.2072\n",
      "Epoch 5, Loss: 0.1786\n",
      "Epoch 6, Loss: 0.1608\n",
      "Epoch 7, Loss: 0.1483\n",
      "Epoch 8, Loss: 0.1382\n",
      "Epoch 9, Loss: 0.1296\n",
      "Epoch 10, Loss: 0.1230\n"
     ]
    }
   ],
   "source": [
    "def cross_entropy_loss(predictions, targets):\n",
    "    return -np.mean(np.sum(targets * np.log(predictions + 1e-9), axis=1))\n",
    "\n",
    "learning_rate = 0.01\n",
    "epochs = 10\n",
    "batch_size = 64\n",
    "\n",
    "for epoch in range(epochs):\n",
    "    for i in range(0, X_train.shape[0], batch_size):\n",
    "        X_batch = X_train[i:i+batch_size]\n",
    "        y_batch = y_train[i:i+batch_size]\n",
    "\n",
    "        # Forward Pass\n",
    "        z1 = X_batch.dot(W1) + b1\n",
    "        a1 = relu(z1)\n",
    "        z2 = a1.dot(W2) + b2\n",
    "        output = softmax(z2)\n",
    "\n",
    "        # Loss\n",
    "        loss = cross_entropy_loss(output, y_batch)\n",
    "\n",
    "        # Backward Pass\n",
    "        error = output - y_batch\n",
    "        dW2 = a1.T.dot(error)\n",
    "        db2 = np.sum(error, axis=0, keepdims=True)\n",
    "\n",
    "        delta1 = error.dot(W2.T) * relu_derivative(z1)\n",
    "        dW1 = X_batch.T.dot(delta1)\n",
    "        db1 = np.sum(delta1, axis=0, keepdims=True)\n",
    "\n",
    "        # Update weights\n",
    "        W2 -= learning_rate * dW2 / batch_size\n",
    "        b2 -= learning_rate * db2 / batch_size\n",
    "        W1 -= learning_rate * dW1 / batch_size\n",
    "        b1 -= learning_rate * db1 / batch_size\n",
    "\n",
    "    print(f\"Epoch {epoch+1}, Loss: {loss:.4f}\")\n",
    "\n",
    "    "
   ]
  },
  {
   "cell_type": "code",
   "execution_count": 10,
   "id": "76a9cf69",
   "metadata": {},
   "outputs": [
    {
     "name": "stdout",
     "output_type": "stream",
     "text": [
      "Test Accuracy: 0.9248\n"
     ]
    }
   ],
   "source": [
    "def accuracy(X, y):\n",
    "    z1 = X.dot(W1) + b1\n",
    "    a1 = relu(z1)\n",
    "    z2 = a1.dot(W2) + b2\n",
    "    predictions = np.argmax(softmax(z2), axis=1)\n",
    "    labels = np.argmax(y, axis=1)\n",
    "    return np.mean(predictions == labels)\n",
    "\n",
    "print(\"Test Accuracy:\", accuracy(X_test, y_test))\n"
   ]
  },
  {
   "cell_type": "code",
   "execution_count": 11,
   "id": "3361b96e",
   "metadata": {},
   "outputs": [],
   "source": [
    "# Now we have W1 , b1 and W2 , b2\n",
    "# now made a calss for the model\n",
    "class DigitRecognition:\n",
    "    def __init__(self):\n",
    "        self.input_size = 784\n",
    "        self.hidden_size = 128\n",
    "        self.output_size = 10\n",
    "        self.W1 = W1\n",
    "        self.b1 = b1\n",
    "        self.W2 = W2\n",
    "        self.b2 = b2\n",
    "    def relu(self, x):\n",
    "        return np.maximum(0, x)\n",
    "    def softmax(self, x):\n",
    "        exp_x = np.exp(x - np.max(x))\n",
    "        return exp_x / exp_x.sum(axis=1, keepdims=True)\n",
    "    def predict(self , X):\n",
    "        \n",
    "        z1 = X.dot(self.W1) + self.b1\n",
    "        a1 = relu(z1)\n",
    "        z2 = a1.dot(self.W2) + self.b2\n",
    "        output = softmax(z2)\n",
    "        return np.argmax(output, axis=1)"
   ]
  },
  {
   "cell_type": "code",
   "execution_count": 22,
   "id": "a6ddb4b1",
   "metadata": {},
   "outputs": [
    {
     "data": {
      "text/plain": [
       "array([9], dtype=int64)"
      ]
     },
     "execution_count": 22,
     "metadata": {},
     "output_type": "execute_result"
    }
   ],
   "source": [
    "model = DigitRecognition()\n",
    "# Test the model with a sample input\n",
    "sample_input = X_test[99].reshape(1, -1)  # Reshape\n",
    "model.predict(sample_input)\n"
   ]
  },
  {
   "cell_type": "code",
   "execution_count": 23,
   "id": "060a7812",
   "metadata": {},
   "outputs": [
    {
     "data": {
      "image/png": "[encoded data removed]",
      "text/plain": [
       "<Figure size 640x480 with 1 Axes>"
      ]
     },
     "metadata": {},
     "output_type": "display_data"
    }
   ],
   "source": [
    "plt.imshow((X_test[99].reshape(28 , 28)), cmap=('gray'))\n",
    "plt.show()"
   ]
  },
  {
   "cell_type": "code",
   "execution_count": 19,
   "id": "e2a80a77",
   "metadata": {},
   "outputs": [],
   "source": [
    "import pickle\n",
    "\n",
    "with open('model.pkl', 'wb') as f:\n",
    "    pickle.dump(model, f)"
   ]
  },
  {
   "cell_type": "code",
   "execution_count": 20,
   "id": "7ff75e43",
   "metadata": {},
   "outputs": [],
   "source": [
    "with open('model.pkl', 'rb') as f:\n",
    "    loaded_model = pickle.load(f)"
   ]
  },
  {
   "cell_type": "code",
   "execution_count": 24,
   "id": "1f5d8313",
   "metadata": {},
   "outputs": [
    {
     "name": "stdout",
     "output_type": "stream",
     "text": [
      "[9]\n"
     ]
    },
    {
     "data": {
      "text/plain": [
       "<matplotlib.image.AxesImage at 0x1a899acc680>"
      ]
     },
     "execution_count": 24,
     "metadata": {},
     "output_type": "execute_result"
    },
    {
     "data": {
      "image/png": "[encoded data removed]",
      "text/plain": [
       "<Figure size 640x480 with 1 Axes>"
      ]
     },
     "metadata": {},
     "output_type": "display_data"
    }
   ],
   "source": [
    "print(loaded_model.predict(sample_input))\n",
    "plt.imshow((X_test[99].reshape(28 , 28)), cmap=('gray'))    "
   ]
  },
  {
   "cell_type": "code",
   "execution_count": 21,
   "id": "c8ae2dd6",
   "metadata": {},
   "outputs": [],
   "source": [
    "np.save('W1.npy', W1)\n",
    "np.save('b1.npy', b1)\n",
    "np.save('W2.npy', W2)\n",
    "np.save('b2.npy', b2)"
   ]
  },
  {
   "cell_type": "code",
   "execution_count": null,
   "id": "c261c694",
   "metadata": {},
   "outputs": [],
   "source": []
  }
 ],
 "metadata": {
  "kernelspec": {
   "display_name": "base",
   "language": "python",
   "name": "python3"
  },
  "language_info": {
   "codemirror_mode": {
    "name": "ipython",
    "version": 3
   },
   "file_extension": ".py",
   "mimetype": "text/x-python",
   "name": "python",
   "nbconvert_exporter": "python",
   "pygments_lexer": "ipython3",
   "version": "3.12.7"
  }
 },
 "nbformat": 4,
 "nbformat_minor": 5
}
